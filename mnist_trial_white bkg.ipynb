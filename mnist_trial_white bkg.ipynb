{
  "nbformat": 4,
  "nbformat_minor": 0,
  "metadata": {
    "colab": {
      "name": "mnist_trial_123.ipynb",
      "provenance": [],
      "collapsed_sections": [],
      "include_colab_link": true
    },
    "kernelspec": {
      "name": "python3",
      "display_name": "Python 3"
    }
  },
  "cells": [
    {
      "cell_type": "markdown",
      "metadata": {
        "id": "view-in-github",
        "colab_type": "text"
      },
      "source": [
        "<a href=\"https://colab.research.google.com/github/Gouthami-Channakeshavamurthy/Complete-Python-3-Bootcamp/blob/master/mnist_trial_white%20bkg.ipynb\" target=\"_parent\"><img src=\"https://colab.research.google.com/assets/colab-badge.svg\" alt=\"Open In Colab\"/></a>"
      ]
    },
    {
      "cell_type": "code",
      "metadata": {
        "id": "Ba4-6jty1NKT",
        "colab_type": "code",
        "colab": {
          "base_uri": "https://localhost:8080/",
          "height": 34
        },
        "outputId": "75e681fd-d4bd-41da-c71d-fe5bbb989d56"
      },
      "source": [
        "from __future__ import print_function\n",
        "import keras\n",
        "from keras.datasets import mnist\n",
        "from keras.models import Sequential\n",
        "from keras.layers import Dense, Dropout, Flatten, Conv2D, MaxPooling2D\n",
        "from keras import backend as k\n",
        "import matplotlib.pyplot as plt\n",
        "import numpy as np"
      ],
      "execution_count": 3,
      "outputs": [
        {
          "output_type": "stream",
          "text": [
            "Using TensorFlow backend.\n"
          ],
          "name": "stderr"
        }
      ]
    },
    {
      "cell_type": "code",
      "metadata": {
        "id": "jDFt3N7C4XM6",
        "colab_type": "code",
        "colab": {
          "base_uri": "https://localhost:8080/",
          "height": 51
        },
        "outputId": "8712fb20-95bd-4aca-8690-a1e2d7336a65"
      },
      "source": [
        "#load mnist dataset\n",
        "(X_train, y_train), (X_test, y_test) = mnist.load_data() "
      ],
      "execution_count": 4,
      "outputs": [
        {
          "output_type": "stream",
          "text": [
            "Downloading data from https://s3.amazonaws.com/img-datasets/mnist.npz\n",
            "11493376/11490434 [==============================] - 0s 0us/step\n"
          ],
          "name": "stdout"
        }
      ]
    },
    {
      "cell_type": "code",
      "metadata": {
        "id": "RYCxz6J55YHB",
        "colab_type": "code",
        "outputId": "cace4308-6625-439a-e7a9-2a795fdc7cc9",
        "colab": {
          "base_uri": "https://localhost:8080/",
          "height": 284
        }
      },
      "source": [
        "#visualising first 9 data from training dataset\n",
        "fig = plt.figure()\n",
        "for i in range(9):\n",
        "  plt.subplot(3,3,i+1)\n",
        "  plt.tight_layout()\n",
        "  plt.imshow(X_train[i], cmap=plt.cm.binary, interpolation='none')\n",
        "  plt.title(\"Digit: {}\".format(y_train[i]))\n",
        "  plt.xticks([])\n",
        "  plt.yticks([])\n",
        "#fig"
      ],
      "execution_count": 5,
      "outputs": [
        {
          "output_type": "display_data",
          "data": {
            "image/png": "[encoded data removed]",
            "text/plain": [
              "<Figure size 432x288 with 9 Axes>"
            ]
          },
          "metadata": {
            "tags": []
          }
        }
      ]
    },
    {
      "cell_type": "code",
      "metadata": {
        "id": "RpK29AuT6XLZ",
        "colab_type": "code",
        "outputId": "6f1b1410-7095-46ed-e45f-ef9bcb31dc0f",
        "colab": {
          "base_uri": "https://localhost:8080/",
          "height": 85
        }
      },
      "source": [
        "# let's print the actual data shape before we reshape and normalize\n",
        "print(\"X_train shape\", X_train.shape)\n",
        "print(\"y_train shape\", y_train.shape)\n",
        "print(\"X_test shape\", X_test.shape)\n",
        "print(\"y_test shape\", y_test.shape)"
      ],
      "execution_count": 6,
      "outputs": [
        {
          "output_type": "stream",
          "text": [
            "X_train shape (60000, 28, 28)\n",
            "y_train shape (60000,)\n",
            "X_test shape (10000, 28, 28)\n",
            "y_test shape (10000,)\n"
          ],
          "name": "stdout"
        }
      ]
    },
    {
      "cell_type": "code",
      "metadata": {
        "id": "kwe0q8ug6gA9",
        "colab_type": "code",
        "colab": {}
      },
      "source": [
        "#input image size 28*28\n",
        "img_rows , img_cols = 28, 28"
      ],
      "execution_count": 0,
      "outputs": []
    },
    {
      "cell_type": "code",
      "metadata": {
        "id": "pAfpa46QRA8j",
        "colab_type": "code",
        "colab": {}
      },
      "source": [
        "#Above code block can be replaced by this block\n",
        "X_train_expand = X_train.reshape((X_train.shape[0], 28, 28, 1))\n",
        "X_test_expand = X_test.reshape((X_test.shape[0], 28, 28, 1))\n",
        "X_train_expand = X_train_expand.astype('float16')\n",
        "X_test_expand = X_test_expand.astype('float16')"
      ],
      "execution_count": 0,
      "outputs": []
    },
    {
      "cell_type": "code",
      "metadata": {
        "id": "5pmM9QLI7kB0",
        "colab_type": "code",
        "outputId": "f24bbd7a-47d6-4095-baa5-bca21a089342",
        "colab": {
          "base_uri": "https://localhost:8080/",
          "height": 51
        }
      },
      "source": [
        "print(\"All classes\")\n",
        "print(np.unique(y_train))"
      ],
      "execution_count": 9,
      "outputs": [
        {
          "output_type": "stream",
          "text": [
            "All classes\n",
            "[0 1 2 3 4 5 6 7 8 9]\n"
          ],
          "name": "stdout"
        }
      ]
    },
    {
      "cell_type": "code",
      "metadata": {
        "id": "g7hdtpkZLYNP",
        "colab_type": "code",
        "colab": {}
      },
      "source": [
        "#set number of categories\n",
        "num_category = 10"
      ],
      "execution_count": 0,
      "outputs": []
    },
    {
      "cell_type": "code",
      "metadata": {
        "id": "5En0U0EKLdPo",
        "colab_type": "code",
        "outputId": "ccf65f80-bc51-4269-9615-d1457245a603",
        "colab": {
          "base_uri": "https://localhost:8080/",
          "height": 51
        }
      },
      "source": [
        "# convert class vectors to binary class matrices\n",
        "Y_train = keras.utils.to_categorical(y_train, num_category)\n",
        "Y_test = keras.utils.to_categorical(y_test, num_category)\n",
        "print(\"First output array\",Y_train[0],\"\\nNumber- \",np.argmax(Y_train[0]))"
      ],
      "execution_count": 11,
      "outputs": [
        {
          "output_type": "stream",
          "text": [
            "First output array [0. 0. 0. 0. 0. 1. 0. 0. 0. 0.] \n",
            "Number-  5\n"
          ],
          "name": "stdout"
        }
      ]
    },
    {
      "cell_type": "code",
      "metadata": {
        "id": "WAS0uO0GLkQ3",
        "colab_type": "code",
        "colab": {}
      },
      "source": [
        "##model building\n",
        "model = Sequential()\n",
        "#convolutional layer with rectified linear unit activation\n",
        "model.add(Conv2D(8, kernel_size=(5, 5),\n",
        "                 activation='relu',\n",
        "                 strides=(1,1),padding='same'))\n",
        "model.add(MaxPooling2D(pool_size=(2, 2), strides=(2,2)))\n",
        "model.add(Conv2D(16, kernel_size=(3, 3),\n",
        "                 activation='relu',padding='same'))\n",
        "model.add(Flatten())\n",
        "model.add(Dense(32, activation='relu'))\n",
        "model.add(Dense(num_category, activation='softmax'))\n",
        "#Model compilation\n",
        "model.compile(loss=keras.losses.categorical_crossentropy,\n",
        "              optimizer=keras.optimizers.Adadelta(),\n",
        "              metrics=['accuracy'])"
      ],
      "execution_count": 0,
      "outputs": []
    },
    {
      "cell_type": "code",
      "metadata": {
        "id": "MhGvXpr9LmQr",
        "colab_type": "code",
        "outputId": "1597448e-c562-43b0-bd3c-9e5b767023fe",
        "colab": {
          "base_uri": "https://localhost:8080/",
          "height": 204
        }
      },
      "source": [
        "#Model fitting\n",
        "batch_size = 128\n",
        "num_epoch = 5 #We have to use 5 epochs\n",
        "#model training\n",
        "model_log = model.fit(X_train_expand, Y_train,\n",
        "          batch_size=batch_size,\n",
        "          epochs=num_epoch,\n",
        "          verbose=1,\n",
        "          validation_split=0.5)"
      ],
      "execution_count": 14,
      "outputs": [
        {
          "output_type": "stream",
          "text": [
            "Train on 30000 samples, validate on 30000 samples\n",
            "Epoch 1/5\n",
            "30000/30000 [==============================] - 21s 684us/step - loss: 1.0046 - accuracy: 0.8139 - val_loss: 0.3230 - val_accuracy: 0.9265\n",
            "Epoch 2/5\n",
            "30000/30000 [==============================] - 20s 678us/step - loss: 0.1917 - accuracy: 0.9513 - val_loss: 0.1692 - val_accuracy: 0.9558\n",
            "Epoch 3/5\n",
            "30000/30000 [==============================] - 20s 668us/step - loss: 0.0984 - accuracy: 0.9740 - val_loss: 0.2174 - val_accuracy: 0.9447\n",
            "Epoch 4/5\n",
            "30000/30000 [==============================] - 20s 669us/step - loss: 0.0615 - accuracy: 0.9821 - val_loss: 0.1277 - val_accuracy: 0.9690\n",
            "Epoch 5/5\n",
            "30000/30000 [==============================] - 20s 681us/step - loss: 0.0386 - accuracy: 0.9883 - val_loss: 0.1060 - val_accuracy: 0.9736\n"
          ],
          "name": "stdout"
        }
      ]
    },
    {
      "cell_type": "code",
      "metadata": {
        "id": "ozfIDfJoU_K3",
        "colab_type": "code",
        "outputId": "9e0d9d55-079a-4bad-e84d-c1fc1010ad9c",
        "colab": {
          "base_uri": "https://localhost:8080/",
          "height": 34
        }
      },
      "source": [
        "#Model performance evaluation\n",
        "loss = model_log.history['loss']\n",
        "val_loss = model_log.history['val_loss']\n",
        "acc = model_log.history['accuracy']\n",
        "val_acc = model_log.history['val_accuracy']\n",
        "test_loss, test_acc = model.evaluate(X_test_expand, Y_test)"
      ],
      "execution_count": 15,
      "outputs": [
        {
          "output_type": "stream",
          "text": [
            "10000/10000 [==============================] - 3s 288us/step\n"
          ],
          "name": "stdout"
        }
      ]
    },
    {
      "cell_type": "code",
      "metadata": {
        "id": "dQgSH2T0XEhB",
        "colab_type": "code",
        "outputId": "54dc7228-4499-4184-a181-71d35e6ea4d8",
        "colab": {
          "base_uri": "https://localhost:8080/",
          "height": 119
        }
      },
      "source": [
        "#Model performance\n",
        "print('Training Loss - ',loss[-1])\n",
        "print('Validation Loss - ',val_loss[-1])\n",
        "print('Training Accuraccy - ',acc[-1])\n",
        "print('Validation Accuracy - ',val_acc[-1])\n",
        "print('Testing Loss - ',test_loss)\n",
        "print('Testing Accuracy - ',test_acc)"
      ],
      "execution_count": 16,
      "outputs": [
        {
          "output_type": "stream",
          "text": [
            "Training Loss -  0.03864193902860085\n",
            "Validation Loss -  0.10601690820443134\n",
            "Training Accuraccy -  0.98826665\n",
            "Validation Accuracy -  0.9735666513442993\n",
            "Testing Loss -  0.0938359197612619\n",
            "Testing Accuracy -  0.975600004196167\n"
          ],
          "name": "stdout"
        }
      ]
    },
    {
      "cell_type": "code",
      "metadata": {
        "id": "21qUmORhXepV",
        "colab_type": "code",
        "outputId": "5c095e23-5a77-4683-eacc-8ec971af53e9",
        "colab": {
          "base_uri": "https://localhost:8080/",
          "height": 282
        }
      },
      "source": [
        "#Prediction\n",
        "predictions = model.predict([X_test_expand]) # Make prediction\n",
        "plt.imshow(X_test[565], cmap=plt.cm.binary)\n",
        "plt.show()\n",
        "print(\"Predicted number- \",np.argmax(predictions[565])) # Print out the number"
      ],
      "execution_count": 18,
      "outputs": [
        {
          "output_type": "display_data",
          "data": {
            "image/png": "[encoded data removed]",
            "text/plain": [
              "<Figure size 432x288 with 1 Axes>"
            ]
          },
          "metadata": {
            "tags": [],
            "needs_background": "light"
          }
        },
        {
          "output_type": "stream",
          "text": [
            "Predicted number-  4\n"
          ],
          "name": "stdout"
        }
      ]
    },
    {
      "cell_type": "code",
      "metadata": {
        "id": "ntm_vhQcRy1A",
        "colab_type": "code",
        "outputId": "07ecebc8-7b75-430e-95ea-499e11e95e45",
        "colab": {
          "base_uri": "https://localhost:8080/",
          "height": 573
        }
      },
      "source": [
        "import os\n",
        "epochs = range(num_epoch)\n",
        "# plotting the metrics\n",
        "plt.figure()\n",
        "plt.plot(epochs, loss, 'r', label='Training loss')\n",
        "plt.plot(epochs, val_loss, 'bo', label='Validation loss')\n",
        "plt.title('Training and Validation Loss')\n",
        "plt.xlabel('Epoch')\n",
        "plt.ylabel('Loss Value')\n",
        "#plt.ylim([0, 1])\n",
        "plt.legend()\n",
        "plt.show()\n",
        "\n",
        "plt.figure()\n",
        "plt.plot(epochs, acc, 'r', label='Training accuracy')\n",
        "plt.plot(epochs, val_acc, 'bo', label='Validation accuracy')\n",
        "plt.title('Training and Validation Accuracy')\n",
        "plt.xlabel('Epoch')\n",
        "plt.ylabel('Accuracy Value')\n",
        "plt.legend()\n",
        "plt.show()\n"
      ],
      "execution_count": 20,
      "outputs": [
        {
          "output_type": "display_data",
          "data": {
            "image/png": "[encoded data removed]",
            "text/plain": [
              "<Figure size 432x288 with 1 Axes>"
            ]
          },
          "metadata": {
            "tags": [],
            "needs_background": "light"
          }
        },
        {
          "output_type": "display_data",
          "data": {
            "image/png": "[encoded data removed]",
            "text/plain": [
              "<Figure size 432x288 with 1 Axes>"
            ]
          },
          "metadata": {
            "tags": [],
            "needs_background": "light"
          }
        }
      ]
    },
    {
      "cell_type": "code",
      "metadata": {
        "id": "6HMNWj8UTaIn",
        "colab_type": "code",
        "colab": {}
      },
      "source": [
        "#Save the model\n",
        "# serialize model to JSON\n",
        "model_digit_json = model.to_json()\n",
        "with open(\"model_digit.json\", \"w\") as json_file:\n",
        "    json_file.write(model_digit_json)\n",
        "# serialize weights to HDF5\n",
        "model.save_weights(\"model_digit.h5\")\n",
        "print(\"Saved model to disk\")"
      ],
      "execution_count": 0,
      "outputs": []
    }
  ]
}